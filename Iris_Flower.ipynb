{
  "cells": [
    {
      "cell_type": "markdown",
      "metadata": {
        "id": "view-in-github",
        "colab_type": "text"
      },
      "source": [
        "<a href=\"https://colab.research.google.com/github/ayodelenaomii/Iris-Flower/blob/main/Iris_Flower.ipynb\" target=\"_parent\"><img src=\"https://colab.research.google.com/assets/colab-badge.svg\" alt=\"Open In Colab\"/></a>"
      ]
    },
    {
      "cell_type": "code",
      "execution_count": null,
      "metadata": {
        "id": "q6vIPXwguHvX"
      },
      "outputs": [],
      "source": [
        "import numpy as np\n",
        "import pandas as pd\n",
        "import seaborn as sns\n",
        "import matplotlib.pyplot as plt\n",
        "import os\n",
        "from google.colab import drive\n",
        "drive.mount('/content/drive')"
      ]
    },
    {
      "cell_type": "code",
      "execution_count": null,
      "metadata": {
        "id": "obdzh-jcwAvU"
      },
      "outputs": [],
      "source": [
        "data = pd.read_csv ('/content/drive/MyDrive/Machine-learning/IRIS.csv')\n",
        "data"
      ]
    },
    {
      "cell_type": "code",
      "execution_count": null,
      "metadata": {
        "id": "8lCPgdR0xNhq"
      },
      "outputs": [],
      "source": [
        "data.head()"
      ]
    },
    {
      "cell_type": "code",
      "execution_count": null,
      "metadata": {
        "id": "3orFR1vSxPoc"
      },
      "outputs": [],
      "source": [
        "data.columns.values"
      ]
    },
    {
      "cell_type": "code",
      "execution_count": null,
      "metadata": {
        "id": "oJWoiU9jxYnS"
      },
      "outputs": [],
      "source": [
        "data.describe().T"
      ]
    },
    {
      "cell_type": "code",
      "execution_count": null,
      "metadata": {
        "id": "EeIgztOyxpN1"
      },
      "outputs": [],
      "source": [
        "\n",
        "\n",
        "\n",
        "plt.figure(figsize=(8,6));\n",
        "sns.pairplot(data,kind='reg',hue ='species',palette=\"husl\" )"
      ]
    },
    {
      "cell_type": "code",
      "execution_count": null,
      "metadata": {
        "id": "uUl3LoBKyP0u"
      },
      "outputs": [],
      "source": [
        "plt.figure(figsize=(8,6));\n",
        "sns.scatterplot(x=data.sepal_length,y=data.sepal_width,hue=data.species).set_title(\"Sepal length and Sepal width distribution of three flowers\")"
      ]
    },
    {
      "cell_type": "code",
      "execution_count": null,
      "metadata": {
        "id": "9SlLeiScy54x"
      },
      "outputs": [],
      "source": [
        "plt.figure(figsize=(8,6));\n",
        "sns.scatterplot(x=data.petal_length,y=data.petal_width,hue=data.species).set_title(\"Petal length and Petal width distribution of three flowers\")"
      ]
    },
    {
      "cell_type": "code",
      "execution_count": null,
      "metadata": {
        "id": "f2vRkoQeBJ61"
      },
      "outputs": [],
      "source": [
        "plt.figure(figsize=(8,6));\n",
        "sns.scatterplot(x=data.sepal_length,y=data.petal_width,hue=data.species).set_title(\"sepal length and Petal width distribution of three flowers\")"
      ]
    },
    {
      "cell_type": "code",
      "execution_count": null,
      "metadata": {
        "id": "3g6Z_5S5zXAt"
      },
      "outputs": [],
      "source": [
        "data.value_counts()"
      ]
    },
    {
      "cell_type": "code",
      "execution_count": null,
      "metadata": {
        "id": "wXuEGIJp-rz3"
      },
      "outputs": [],
      "source": [
        "data.isnull().sum()"
      ]
    },
    {
      "cell_type": "code",
      "execution_count": null,
      "metadata": {
        "id": "Mzn9oIlt_FfP"
      },
      "outputs": [],
      "source": [
        "data['sepal_length'].hist()"
      ]
    },
    {
      "cell_type": "code",
      "execution_count": null,
      "metadata": {
        "id": "F1TZYOOn_ku8"
      },
      "outputs": [],
      "source": [
        "data['petal_length'].hist()"
      ]
    },
    {
      "cell_type": "code",
      "execution_count": null,
      "metadata": {
        "id": "Gg-Ze8we_vMT"
      },
      "outputs": [],
      "source": [
        "data['petal_width'].hist()"
      ]
    },
    {
      "cell_type": "code",
      "execution_count": null,
      "metadata": {
        "id": "x_G0ZMO__567"
      },
      "outputs": [],
      "source": [
        "\n",
        "data['sepal_width'].hist()"
      ]
    },
    {
      "cell_type": "code",
      "execution_count": null,
      "metadata": {
        "id": "r6Bh49KhADcT"
      },
      "outputs": [],
      "source": [
        "data.corr()"
      ]
    },
    {
      "cell_type": "code",
      "execution_count": null,
      "metadata": {
        "id": "0XyA9EUKCffD"
      },
      "outputs": [],
      "source": [
        "corr = data.corr()\n",
        "fig, ax = plt.subplots (figsize= (3,3 ))\n",
        "sns.heatmap(corr, ax= ax , annot = True)"
      ]
    },
    {
      "cell_type": "code",
      "execution_count": null,
      "metadata": {
        "id": "djBl5Sj0D9Z8"
      },
      "outputs": [],
      "source": [
        "from sklearn. preprocessing import LabelEncoder\n",
        "le = LabelEncoder()\n"
      ]
    },
    {
      "cell_type": "code",
      "execution_count": null,
      "metadata": {
        "id": "gW89BeifJvVJ"
      },
      "outputs": [],
      "source": [
        "data['species'] = le.fit_transform(data['species'])\n",
        "data"
      ]
    },
    {
      "cell_type": "code",
      "execution_count": null,
      "metadata": {
        "id": "Uy9AK0FMHROE"
      },
      "outputs": [],
      "source": [
        "inputs = data.drop(columns=['species'])\n",
        "targets = data['species']"
      ]
    },
    {
      "cell_type": "code",
      "execution_count": null,
      "metadata": {
        "id": "a3LFt_Wkgske"
      },
      "outputs": [],
      "source": [
        "inputs.tail()"
      ]
    },
    {
      "cell_type": "code",
      "execution_count": null,
      "metadata": {
        "id": "ZdtCM2g-H_3A"
      },
      "outputs": [],
      "source": [
        "inputs.isnull().sum()"
      ]
    },
    {
      "cell_type": "code",
      "execution_count": null,
      "metadata": {
        "id": "DFu9XwO-K-8-"
      },
      "outputs": [],
      "source": [
        "targets.isnull().sum()"
      ]
    },
    {
      "cell_type": "code",
      "execution_count": null,
      "metadata": {
        "id": "XmTX2QLJLFzi"
      },
      "outputs": [],
      "source": [
        "print(inputs.shape)\n",
        "print(targets.shape)\n",
        "\n",
        "if inputs.shape[0] != targets.shape[0]:\n",
        "  print(\"X and y rows are mismatched, check dataset again\")"
      ]
    },
    {
      "cell_type": "code",
      "execution_count": null,
      "metadata": {
        "id": "bkxoYVclGwpH"
      },
      "outputs": [],
      "source": [
        "from sklearn.model_selection import train_test_split\n",
        "x_train,x_test,y_train,y_test = train_test_split(inputs,targets, test_size=0.2 , random_state =360)"
      ]
    },
    {
      "cell_type": "code",
      "execution_count": null,
      "metadata": {
        "id": "nvua-dhpFzuj"
      },
      "outputs": [],
      "source": [
        "from sklearn.linear_model import LinearRegression\n",
        "reg = LinearRegression()\n"
      ]
    },
    {
      "cell_type": "code",
      "execution_count": null,
      "metadata": {
        "id": "K4kTBxdjGYRN"
      },
      "outputs": [],
      "source": [
        "reg.fit(x_train, y_train)"
      ]
    },
    {
      "cell_type": "code",
      "execution_count": null,
      "metadata": {
        "id": "QMW562oIVu_s"
      },
      "outputs": [],
      "source": [
        "\n",
        "\n",
        "reg.score(x_test,y_test)"
      ]
    },
    {
      "cell_type": "code",
      "execution_count": null,
      "metadata": {
        "id": "NZ694lVOGpMC"
      },
      "outputs": [],
      "source": [
        "from sklearn.neighbors import KNeighborsClassifier\n",
        "reg = KNeighborsClassifier()"
      ]
    },
    {
      "cell_type": "code",
      "execution_count": null,
      "metadata": {
        "id": "33hnFx-qUzsq"
      },
      "outputs": [],
      "source": [
        "reg.fit(x_train, y_train)"
      ]
    },
    {
      "cell_type": "code",
      "execution_count": null,
      "metadata": {
        "id": "brbEW_QHVot0"
      },
      "outputs": [],
      "source": [
        "\n",
        "reg.score(x_test,y_test)"
      ]
    },
    {
      "cell_type": "code",
      "execution_count": null,
      "metadata": {
        "id": "T0S1yVvLVtKA"
      },
      "outputs": [],
      "source": [
        "from sklearn. tree import DecisionTreeClassifier\n",
        "reg = DecisionTreeClassifier()"
      ]
    },
    {
      "cell_type": "code",
      "execution_count": null,
      "metadata": {
        "id": "MmYTh6OYWHEd"
      },
      "outputs": [],
      "source": [
        "reg.fit(x_train, y_train)\n"
      ]
    },
    {
      "cell_type": "code",
      "execution_count": null,
      "metadata": {
        "id": "wsU9S5C6WVP5"
      },
      "outputs": [],
      "source": [
        "reg.score(x_test, y_test)"
      ]
    },
    {
      "cell_type": "code",
      "execution_count": null,
      "metadata": {
        "id": "ej8qY1a_WYqg"
      },
      "outputs": [],
      "source": [
        "\n",
        "\n",
        "x_test.head()"
      ]
    },
    {
      "cell_type": "code",
      "execution_count": null,
      "metadata": {
        "id": "WaH5x9QhqkUx"
      },
      "outputs": [],
      "source": [
        "# Assuming you have already trained your regression model 'reg' and have test data 'X_test'\n",
        "y_pred = reg.predict(x_test)\n"
      ]
    },
    {
      "cell_type": "code",
      "execution_count": null,
      "metadata": {
        "id": "dCHy1d4Yqs7q"
      },
      "outputs": [],
      "source": [
        "\n",
        "np.mean(y_pred == y_test)"
      ]
    },
    {
      "cell_type": "code",
      "execution_count": null,
      "metadata": {
        "id": "Z-GmHZ1Hrchy"
      },
      "outputs": [],
      "source": [
        "new_data = inputs.iloc[4]\n",
        "new_data"
      ]
    },
    {
      "cell_type": "code",
      "execution_count": null,
      "metadata": {
        "id": "yY3sXljY0bCA"
      },
      "outputs": [],
      "source": [
        "y_pred = reg.predict(new_data)\n",
        "y_pred"
      ]
    },
    {
      "cell_type": "code",
      "execution_count": null,
      "metadata": {
        "id": "YCyn_w9QoZ98"
      },
      "outputs": [],
      "source": [
        "\n",
        "\n"
      ]
    },
    {
      "cell_type": "code",
      "source": [
        "\n"
      ],
      "metadata": {
        "id": "1VMsxm_pczBU"
      },
      "execution_count": null,
      "outputs": []
    }
  ],
  "metadata": {
    "colab": {
      "provenance": [],
      "include_colab_link": true
    },
    "kernelspec": {
      "display_name": "Python 3",
      "name": "python3"
    },
    "language_info": {
      "name": "python"
    }
  },
  "nbformat": 4,
  "nbformat_minor": 0
}